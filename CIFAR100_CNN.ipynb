{
 "cells": [
  {
   "cell_type": "code",
   "execution_count": 133,
   "id": "35e62453-6d56-4954-af7e-49ff9a941711",
   "metadata": {},
   "outputs": [],
   "source": [
    "#  importing libraries\n",
    "import torch \n",
    "from torch import nn, load,save\n",
    "from torch.utils.data import DataLoader\n",
    "import torchvision\n",
    "from torchvision.transforms import transforms\n",
    "import matplotlib.pyplot as plt\n",
    "import numpy as np\n",
    "from torch.optim import Adam\n",
    "from torchvision.transforms import ToTensor\n",
    "from PIL import Image"
   ]
  },
  {
   "cell_type": "code",
   "execution_count": 134,
   "id": "f182048f-b76d-4249-8d1e-45dd3f96191e",
   "metadata": {},
   "outputs": [
    {
     "name": "stdout",
     "output_type": "stream",
     "text": [
      "cuda\n"
     ]
    }
   ],
   "source": [
    "# setting up device configuration\n",
    "device=torch.device('cuda'if torch.cuda.is_available() else 'cpu')\n",
    "print(device)"
   ]
  },
  {
   "cell_type": "code",
   "execution_count": 135,
   "id": "31c137d4-6658-4e52-9d1c-f1ff13ee6509",
   "metadata": {},
   "outputs": [],
   "source": [
    "# setting up hyperparameters\n",
    "epoch=20\n",
    "batchsize=32\n",
    "lr=1e-3\n"
   ]
  },
  {
   "cell_type": "code",
   "execution_count": 136,
   "id": "7ec5005e-650f-424a-9596-569a11450629",
   "metadata": {},
   "outputs": [],
   "source": [
    "#  transform dataset of range [0,1] to tensor of normalized range [-1,1]\n",
    "transform = transforms.Compose(\n",
    "    [transforms.ToTensor(),\n",
    "     transforms.Normalize((0.5, 0.5, 0.5), (0.5, 0.5, 0.5))])"
   ]
  },
  {
   "cell_type": "code",
   "execution_count": 137,
   "id": "8fb5ce01-73e9-41ee-841c-895f64204534",
   "metadata": {},
   "outputs": [
    {
     "name": "stdout",
     "output_type": "stream",
     "text": [
      "Files already downloaded and verified\n",
      "Files already downloaded and verified\n"
     ]
    }
   ],
   "source": [
    "train_dataset=torchvision.datasets.CIFAR10(train=True,root='./dataset',download=True,transform=transform)\n",
    "test_dataset=torchvision.datasets.CIFAR10(train=False,root='./dataset',download=True,transform=transform)"
   ]
  },
  {
   "cell_type": "code",
   "execution_count": 138,
   "id": "ce7ff4de-d271-4076-b1e2-9a36329a7ad1",
   "metadata": {},
   "outputs": [
    {
     "name": "stdout",
     "output_type": "stream",
     "text": [
      "Sample shape: torch.Size([3, 32, 32])\n",
      "Label: 6\n"
     ]
    }
   ],
   "source": [
    "# Inspect the shape of the first sample\n",
    "sample, label = train_dataset[0]\n",
    "print(f'Sample shape: {sample.shape}')  # Should print torch.Size([3, 32, 32])\n",
    "print(f'Label: {label}')"
   ]
  },
  {
   "cell_type": "code",
   "execution_count": 139,
   "id": "710e557b-dcab-41d4-a819-57bbc523e13a",
   "metadata": {},
   "outputs": [],
   "source": [
    "train_dataloader=torch.utils.data.DataLoader(train_dataset, batch_size=batchsize,shuffle=True)\n",
    "test_dataloader=torch.utils.data.DataLoader(test_dataset,batch_size=batchsize, shuffle=False)"
   ]
  },
  {
   "cell_type": "code",
   "execution_count": 140,
   "id": "623d2ce2-5a18-4e3a-b86b-fa297c06a9f4",
   "metadata": {},
   "outputs": [],
   "source": [
    "# define classes\n",
    "classes=('plane','car','bird','cat','deer', 'dog', 'frog','horse', 'ship','truck')"
   ]
  },
  {
   "cell_type": "code",
   "execution_count": 141,
   "id": "c04cb194-3389-4b12-99fb-dba6233bd216",
   "metadata": {},
   "outputs": [],
   "source": [
    "# Convolutional Network class\n",
    "class ImageClassifier(nn.Module):\n",
    "    def __init__(self):\n",
    "        super().__init__()\n",
    "        self.model=nn.Sequential(\n",
    "            nn.Conv2d(3,32,(3,3)),  #3 x 32 X 32 -> 32-3+1 -> 32 x 30 X 30\n",
    "            nn.ReLU(),\n",
    "            nn.Conv2d(32,64,(3,3)), #32 x 30 X 30 -> 30-3+1 -> 64 x 28 X 28\n",
    "            nn.ReLU(),\n",
    "            nn.Conv2d(64,128,(3,3)), #64 x 28 X 28 -> 28-3+1 -> 128 x 26 x 26\n",
    "            nn.ReLU(),\n",
    "            nn.Flatten(),\n",
    "            nn.Linear(128*26* 26,10)\n",
    "            \n",
    "        )\n",
    "    def forward(self,x):\n",
    "        return self.model(x)\n",
    "        "
   ]
  },
  {
   "cell_type": "code",
   "execution_count": 142,
   "id": "e57e7ff8-dffd-44f3-a646-a00a34944ef4",
   "metadata": {},
   "outputs": [],
   "source": [
    "#  create an insitance of NN, loss and optimizer\n",
    "clf=ImageClassifier().to(device)\n",
    "opt=Adam(clf.parameters(),lr=lr)\n",
    "loss_func=nn.CrossEntropyLoss() #for multi-class classification"
   ]
  },
  {
   "cell_type": "code",
   "execution_count": 95,
   "id": "77d6e3b5-cdc3-46a5-aa1d-f4b62ee92503",
   "metadata": {},
   "outputs": [
    {
     "name": "stdout",
     "output_type": "stream",
     "text": [
      "Epoch:0, loss is : 0.02110102027654648 \n",
      "Epoch:1, loss is : 0.0002584050816949457 \n",
      "Epoch:2, loss is : 0.0008107690955512226 \n",
      "Epoch:3, loss is : 0.057763081043958664 \n",
      "Epoch:4, loss is : 0.004789986182004213 \n",
      "Epoch:5, loss is : 0.00045358837815001607 \n",
      "Epoch:6, loss is : 3.650685130196507e-06 \n",
      "Epoch:7, loss is : 1.8641433715820312 \n",
      "Epoch:8, loss is : 0.002077673329040408 \n",
      "Epoch:9, loss is : 0.0026132469065487385 \n",
      "Epoch:10, loss is : 2.6747011361294426e-06 \n",
      "Epoch:11, loss is : 5.215405707303944e-08 \n",
      "Epoch:12, loss is : 2.9802318834981634e-08 \n",
      "Epoch:13, loss is : 1.2895624422526453e-05 \n",
      "Epoch:14, loss is : 0.0002303507790202275 \n",
      "Epoch:15, loss is : 1.1026811534975423e-06 \n",
      "Epoch:16, loss is : 0.0 \n",
      "Epoch:17, loss is : 2.098480035783723e-05 \n",
      "Epoch:18, loss is : 0.032306089997291565 \n",
      "Epoch:19, loss is : 1.2277352652745321e-05 \n"
     ]
    }
   ],
   "source": [
    "# #  training flow \n",
    "# if __name__==\"__main__\":\n",
    "#     for epoc in range(epoch):\n",
    "#         for batch in train_dataloader:\n",
    "#             X,y=batch\n",
    "#             X,y=X.to(device),y.to(device)\n",
    "#             y_hat=clf(X)\n",
    "#             loss=loss_func(y_hat,y)\n",
    "\n",
    "\n",
    "#             # back propagation\n",
    "#             opt.zero_grad()\n",
    "#             loss.backward()\n",
    "#             opt.step()\n",
    "\n",
    "      \n",
    "#         print(f\"Epoch:{epoc}, loss is : {loss} \")\n"
   ]
  },
  {
   "cell_type": "code",
   "execution_count": 96,
   "id": "d1a5ad07-618d-46f0-89ca-de6ee3bbe039",
   "metadata": {},
   "outputs": [],
   "source": [
    "with open('model_state.pt','wb') as f:\n",
    "    save(clf.state_dict(),f)"
   ]
  },
  {
   "cell_type": "code",
   "execution_count": 143,
   "id": "58f72736-98a7-4c0c-acdd-45a45fd16a71",
   "metadata": {},
   "outputs": [],
   "source": [
    "with open('model_state.pt', 'rb') as f:\n",
    "    clf.load_state_dict(load(f))"
   ]
  },
  {
   "cell_type": "code",
   "execution_count": 145,
   "id": "c8c12258-e716-42e7-a85c-d8f013c8641d",
   "metadata": {},
   "outputs": [
    {
     "data": {
      "text/plain": [
       "ImageClassifier(\n",
       "  (model): Sequential(\n",
       "    (0): Conv2d(3, 32, kernel_size=(3, 3), stride=(1, 1))\n",
       "    (1): ReLU()\n",
       "    (2): Conv2d(32, 64, kernel_size=(3, 3), stride=(1, 1))\n",
       "    (3): ReLU()\n",
       "    (4): Conv2d(64, 128, kernel_size=(3, 3), stride=(1, 1))\n",
       "    (5): ReLU()\n",
       "    (6): Flatten(start_dim=1, end_dim=-1)\n",
       "    (7): Linear(in_features=86528, out_features=10, bias=True)\n",
       "  )\n",
       ")"
      ]
     },
     "execution_count": 145,
     "metadata": {},
     "output_type": "execute_result"
    }
   ],
   "source": [
    "# Prepare image for model\n",
    "image = image.unsqueeze(0).to(device)  # Add batch dimension and move to device\n",
    "\n",
    "# Initialize the model\n",
    "clf = ImageClassifier().to(device)\n",
    "\n",
    "# Load the state dictionary\n",
    "clf.load_state_dict(torch.load('model_state.pt'))\n",
    "\n",
    "# Set the model to evaluation mode\n",
    "clf.eval()"
   ]
  },
  {
   "cell_type": "code",
   "execution_count": 144,
   "id": "7bb7552e-2000-4318-be37-f4a342364237",
   "metadata": {},
   "outputs": [
    {
     "name": "stderr",
     "output_type": "stream",
     "text": [
      "Clipping input data to the valid range for imshow with RGB data ([0..1] for floats or [0..255] for integers). Got range [-0.8980392..1.0].\n"
     ]
    },
    {
     "data": {
      "image/png": "[encoded data removed]",
      "text/plain": [
       "<Figure size 640x480 with 1 Axes>"
      ]
     },
     "metadata": {},
     "output_type": "display_data"
    }
   ],
   "source": [
    "# Select an image for prediction\n",
    "image, label = test_dataset[0]\n",
    "plt.imshow(image.permute(1, 2, 0))  # Display image\n",
    "plt.title(f'Label: {label}')\n",
    "plt.axis('off')\n",
    "plt.show()"
   ]
  },
  {
   "cell_type": "code",
   "execution_count": 146,
   "id": "df91655e-83ab-4e44-8a52-bec219df4f12",
   "metadata": {},
   "outputs": [
    {
     "name": "stdout",
     "output_type": "stream",
     "text": [
      "Predicted label: 3\n"
     ]
    }
   ],
   "source": [
    "# Make prediction\n",
    "with torch.no_grad():\n",
    "    output = clf(image)\n",
    "    predicted_label = torch.argmax(output)\n",
    "\n",
    "print(f'Predicted label: {predicted_label.item()}')"
   ]
  },
  {
   "cell_type": "code",
   "execution_count": null,
   "id": "4ffdeda8-1cad-4682-9bc6-d91d3f3516c7",
   "metadata": {},
   "outputs": [],
   "source": []
  }
 ],
 "metadata": {
  "kernelspec": {
   "display_name": "Python 3 (ipykernel)",
   "language": "python",
   "name": "python3"
  },
  "language_info": {
   "codemirror_mode": {
    "name": "ipython",
    "version": 3
   },
   "file_extension": ".py",
   "mimetype": "text/x-python",
   "name": "python",
   "nbconvert_exporter": "python",
   "pygments_lexer": "ipython3",
   "version": "3.11.9"
  }
 },
 "nbformat": 4,
 "nbformat_minor": 5
}
